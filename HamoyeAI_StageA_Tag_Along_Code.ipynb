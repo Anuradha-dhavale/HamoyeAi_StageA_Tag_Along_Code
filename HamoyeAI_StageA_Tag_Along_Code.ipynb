{
 "cells": [
  {
   "cell_type": "code",
   "execution_count": 1,
   "id": "e901e372",
   "metadata": {},
   "outputs": [],
   "source": [
    "import numpy as np\n",
    "import pandas as pd"
   ]
  },
  {
   "cell_type": "code",
   "execution_count": 2,
   "id": "aad3fb65",
   "metadata": {},
   "outputs": [],
   "source": [
    "df= pd.read_csv(\"FoodBalanceSheets_E_Africa_NOFLAG.csv\",encoding = \"latin-1\")"
   ]
  },
  {
   "cell_type": "code",
   "execution_count": 7,
   "id": "32fdf25d",
   "metadata": {},
   "outputs": [
    {
     "data": {
      "text/plain": [
       "Index(['Area Code', 'Area', 'Item Code', 'Item', 'Element Code', 'Element',\n",
       "       'Unit', 'Y2014', 'Y2015', 'Y2016', 'Y2017', 'Y2018'],\n",
       "      dtype='object')"
      ]
     },
     "execution_count": 7,
     "metadata": {},
     "output_type": "execute_result"
    }
   ],
   "source": [
    "df.columns"
   ]
  },
  {
   "cell_type": "code",
   "execution_count": 3,
   "id": "9062351c",
   "metadata": {},
   "outputs": [
    {
     "data": {
      "text/html": [
       "<div>\n",
       "<style scoped>\n",
       "    .dataframe tbody tr th:only-of-type {\n",
       "        vertical-align: middle;\n",
       "    }\n",
       "\n",
       "    .dataframe tbody tr th {\n",
       "        vertical-align: top;\n",
       "    }\n",
       "\n",
       "    .dataframe thead th {\n",
       "        text-align: right;\n",
       "    }\n",
       "</style>\n",
       "<table border=\"1\" class=\"dataframe\">\n",
       "  <thead>\n",
       "    <tr style=\"text-align: right;\">\n",
       "      <th></th>\n",
       "      <th>Area Code</th>\n",
       "      <th>Item Code</th>\n",
       "      <th>Element Code</th>\n",
       "      <th>Y2014</th>\n",
       "      <th>Y2015</th>\n",
       "      <th>Y2016</th>\n",
       "      <th>Y2017</th>\n",
       "      <th>Y2018</th>\n",
       "    </tr>\n",
       "  </thead>\n",
       "  <tbody>\n",
       "    <tr>\n",
       "      <th>count</th>\n",
       "      <td>60943.000000</td>\n",
       "      <td>60943.000000</td>\n",
       "      <td>60943.000000</td>\n",
       "      <td>59354.000000</td>\n",
       "      <td>59395.000000</td>\n",
       "      <td>59408.000000</td>\n",
       "      <td>59437.000000</td>\n",
       "      <td>59507.000000</td>\n",
       "    </tr>\n",
       "    <tr>\n",
       "      <th>mean</th>\n",
       "      <td>134.265576</td>\n",
       "      <td>2687.176706</td>\n",
       "      <td>3814.856456</td>\n",
       "      <td>134.196282</td>\n",
       "      <td>135.235966</td>\n",
       "      <td>136.555222</td>\n",
       "      <td>140.917765</td>\n",
       "      <td>143.758381</td>\n",
       "    </tr>\n",
       "    <tr>\n",
       "      <th>std</th>\n",
       "      <td>72.605709</td>\n",
       "      <td>146.055739</td>\n",
       "      <td>2212.007033</td>\n",
       "      <td>1567.663696</td>\n",
       "      <td>1603.403984</td>\n",
       "      <td>1640.007194</td>\n",
       "      <td>1671.862359</td>\n",
       "      <td>1710.782658</td>\n",
       "    </tr>\n",
       "    <tr>\n",
       "      <th>min</th>\n",
       "      <td>4.000000</td>\n",
       "      <td>2501.000000</td>\n",
       "      <td>511.000000</td>\n",
       "      <td>-1796.000000</td>\n",
       "      <td>-3161.000000</td>\n",
       "      <td>-3225.000000</td>\n",
       "      <td>-1582.000000</td>\n",
       "      <td>-3396.000000</td>\n",
       "    </tr>\n",
       "    <tr>\n",
       "      <th>25%</th>\n",
       "      <td>74.000000</td>\n",
       "      <td>2562.000000</td>\n",
       "      <td>684.000000</td>\n",
       "      <td>0.000000</td>\n",
       "      <td>0.000000</td>\n",
       "      <td>0.000000</td>\n",
       "      <td>0.000000</td>\n",
       "      <td>0.000000</td>\n",
       "    </tr>\n",
       "    <tr>\n",
       "      <th>50%</th>\n",
       "      <td>136.000000</td>\n",
       "      <td>2630.000000</td>\n",
       "      <td>5142.000000</td>\n",
       "      <td>0.090000</td>\n",
       "      <td>0.080000</td>\n",
       "      <td>0.080000</td>\n",
       "      <td>0.100000</td>\n",
       "      <td>0.070000</td>\n",
       "    </tr>\n",
       "    <tr>\n",
       "      <th>75%</th>\n",
       "      <td>195.000000</td>\n",
       "      <td>2775.000000</td>\n",
       "      <td>5511.000000</td>\n",
       "      <td>8.340000</td>\n",
       "      <td>8.460000</td>\n",
       "      <td>8.430000</td>\n",
       "      <td>9.000000</td>\n",
       "      <td>9.000000</td>\n",
       "    </tr>\n",
       "    <tr>\n",
       "      <th>max</th>\n",
       "      <td>276.000000</td>\n",
       "      <td>2961.000000</td>\n",
       "      <td>5911.000000</td>\n",
       "      <td>176405.000000</td>\n",
       "      <td>181137.000000</td>\n",
       "      <td>185960.000000</td>\n",
       "      <td>190873.000000</td>\n",
       "      <td>195875.000000</td>\n",
       "    </tr>\n",
       "  </tbody>\n",
       "</table>\n",
       "</div>"
      ],
      "text/plain": [
       "          Area Code     Item Code  Element Code          Y2014          Y2015  \\\n",
       "count  60943.000000  60943.000000  60943.000000   59354.000000   59395.000000   \n",
       "mean     134.265576   2687.176706   3814.856456     134.196282     135.235966   \n",
       "std       72.605709    146.055739   2212.007033    1567.663696    1603.403984   \n",
       "min        4.000000   2501.000000    511.000000   -1796.000000   -3161.000000   \n",
       "25%       74.000000   2562.000000    684.000000       0.000000       0.000000   \n",
       "50%      136.000000   2630.000000   5142.000000       0.090000       0.080000   \n",
       "75%      195.000000   2775.000000   5511.000000       8.340000       8.460000   \n",
       "max      276.000000   2961.000000   5911.000000  176405.000000  181137.000000   \n",
       "\n",
       "               Y2016          Y2017          Y2018  \n",
       "count   59408.000000   59437.000000   59507.000000  \n",
       "mean      136.555222     140.917765     143.758381  \n",
       "std      1640.007194    1671.862359    1710.782658  \n",
       "min     -3225.000000   -1582.000000   -3396.000000  \n",
       "25%         0.000000       0.000000       0.000000  \n",
       "50%         0.080000       0.100000       0.070000  \n",
       "75%         8.430000       9.000000       9.000000  \n",
       "max    185960.000000  190873.000000  195875.000000  "
      ]
     },
     "execution_count": 3,
     "metadata": {},
     "output_type": "execute_result"
    }
   ],
   "source": [
    "df.describe()"
   ]
  },
  {
   "cell_type": "code",
   "execution_count": 5,
   "id": "128c2770",
   "metadata": {},
   "outputs": [
    {
     "name": "stdout",
     "output_type": "stream",
     "text": [
      "Total sum of Processing in 2017: Element\n",
      "Domestic supply quantity                  2088198.10\n",
      "Export Quantity                            182338.80\n",
      "Fat supply quantity (g/capita/day)          10253.84\n",
      "Feed                                       223705.68\n",
      "Food                                      1258888.28\n",
      "Food supply (kcal/capita/day)              454681.00\n",
      "Food supply quantity (kg/capita/yr)         48690.04\n",
      "Import Quantity                            294559.09\n",
      "Losses                                     160614.00\n",
      "Other uses (non-food)                       91645.97\n",
      "Processing                                 292836.00\n",
      "Production                                2030056.89\n",
      "Protein supply quantity (g/capita/day)      11842.45\n",
      "Residuals                                   35500.00\n",
      "Seed                                        24870.14\n",
      "Stock Variation                             54316.91\n",
      "Total Population - Both sexes             1112641.00\n",
      "Tourist consumption                            91.00\n",
      "Name: Y2017, dtype: float64\n"
     ]
    }
   ],
   "source": [
    "result = df.groupby('Element')['Y2017'].sum()\n",
    "print(\"Total sum of Processing in 2017:\", result)"
   ]
  },
  {
   "cell_type": "code",
   "execution_count": 15,
   "id": "f282e43e",
   "metadata": {},
   "outputs": [
    {
     "name": "stdout",
     "output_type": "stream",
     "text": [
      "Year with the highest sum of Stock Variation:                  Area Code  Item Code  Element Code     Y2014     Y2015  \\\n",
      "Element                                                                   \n",
      "Stock Variation     571566   11329527      21464704  58749.83  34910.99   \n",
      "\n",
      "                    Y2016     Y2017     Y2018  \n",
      "Element                                        \n",
      "Stock Variation  33140.12  54316.91  20577.91  \n"
     ]
    }
   ],
   "source": [
    "result1 = df[df['Element'] == 'Stock Variation'].groupby('Element').sum()\n",
    "highest_year = result1.iloc[0].idxmax()\n",
    "print(\"Year with the highest sum of Stock Variation:\", result1)"
   ]
  },
  {
   "cell_type": "code",
   "execution_count": 16,
   "id": "592a14ed",
   "metadata": {},
   "outputs": [
    {
     "name": "stdout",
     "output_type": "stream",
     "text": [
      "Total number of missing data in 2014: 1589\n",
      "Percentage of missing data in 2014: 2.607%\n"
     ]
    }
   ],
   "source": [
    "missing_count = df['Y2014'].isna().sum()\n",
    "total_count = len(df['Y2014'])\n",
    "missing_percentage = (missing_count / total_count) * 100\n",
    "print(\"Total number of missing data in 2014:\", missing_count)\n",
    "print(\"Percentage of missing data in 2014: {:.3f}%\".format(missing_percentage))"
   ]
  },
  {
   "cell_type": "code",
   "execution_count": 17,
   "id": "2191a692",
   "metadata": {},
   "outputs": [
    {
     "data": {
      "text/plain": [
       "'e'"
      ]
     },
     "execution_count": 17,
     "metadata": {},
     "output_type": "execute_result"
    }
   ],
   "source": [
    "S = [['him', 'sell'], [90, 28, 43]]\n",
    "\n",
    "S[0][1][1]"
   ]
  },
  {
   "cell_type": "code",
   "execution_count": 18,
   "id": "2a285fcf",
   "metadata": {},
   "outputs": [
    {
     "name": "stdout",
     "output_type": "stream",
     "text": [
      "Mean for the year 2017: 140.92\n",
      "Standard Deviation for the year 2017: 1671.86\n"
     ]
    }
   ],
   "source": [
    "df_2017 = df[['Y2017']]\n",
    "mean_2017 = df_2017.mean().values[0]\n",
    "std_2017 = df_2017.std().values[0]\n",
    "print(\"Mean for the year 2017: {:.2f}\".format(mean_2017))\n",
    "print(\"Standard Deviation for the year 2017: {:.2f}\".format(std_2017))"
   ]
  },
  {
   "cell_type": "code",
   "execution_count": 19,
   "id": "3e7f9763",
   "metadata": {},
   "outputs": [
    {
     "name": "stdout",
     "output_type": "stream",
     "text": [
      "Area with the 7th lowest sum in 2017: Guinea-Bissau\n"
     ]
    }
   ],
   "source": [
    "# Select columns 'Y2017' and 'Area'\n",
    "df_subset = df[['Y2017', 'Area']]\n",
    "\n",
    "# Groupby 'Area' and calculate the sum for 'Y2017'\n",
    "grouped = df_subset.groupby('Area')['Y2017'].sum()\n",
    "\n",
    "# Sort the sums in ascending order\n",
    "sorted_sums = grouped.sort_values(ascending=True)\n",
    "\n",
    "# Get the Area with the 7th lowest sum in 2017\n",
    "seventh_lowest_area = sorted_sums.index[6]\n",
    "\n",
    "# Print the Area with the 7th lowest sum in 2017\n",
    "print(\"Area with the 7th lowest sum in 2017:\", seventh_lowest_area)"
   ]
  },
  {
   "cell_type": "code",
   "execution_count": 20,
   "id": "07d8a610",
   "metadata": {},
   "outputs": [
    {
     "name": "stdout",
     "output_type": "stream",
     "text": [
      "Year with the least correlation with 'Element Code': Y2016\n"
     ]
    }
   ],
   "source": [
    "# Calculate the correlation between 'Element Code' and each year\n",
    "correlations = df.iloc[:, 5:].corrwith(df['Element Code'])\n",
    "\n",
    "# Find the year with the least correlation\n",
    "least_corr_year = correlations.idxmin()\n",
    "\n",
    "# Print the year with the least correlation with 'Element Code'\n",
    "print(\"Year with the least correlation with 'Element Code':\", least_corr_year)"
   ]
  },
  {
   "cell_type": "code",
   "execution_count": 23,
   "id": "71e3a123",
   "metadata": {},
   "outputs": [
    {
     "name": "stdout",
     "output_type": "stream",
     "text": [
      "Elements from the first row: [89 63]\n",
      "Elements from the second row: [92 48]\n"
     ]
    }
   ],
   "source": [
    "# Create the numpy array\n",
    "array = np.array([[94, 89, 63],\n",
    "                  [93, 92, 48],\n",
    "                  [92, 94, 56]])\n",
    "\n",
    "\n",
    "# Select elements from the first row (89, 63)\n",
    "first_row_elements = array[0, 1:]\n",
    "\n",
    "# Select elements from the second row (92, 48)\n",
    "second_row_elements = array[1, 1:]\n",
    "\n",
    "# Print the selected elements\n",
    "print(\"Elements from the first row:\", first_row_elements)\n",
    "print(\"Elements from the second row:\", second_row_elements)"
   ]
  },
  {
   "cell_type": "code",
   "execution_count": 24,
   "id": "bc7ceede",
   "metadata": {},
   "outputs": [
    {
     "name": "stdout",
     "output_type": "stream",
     "text": [
      "   Age Nationality  Overall\n",
      "1   35    Portugal       94\n",
      "2   33   Argentina       93\n",
      "3   30      Brazil       92\n"
     ]
    }
   ],
   "source": [
    "# Define the list and column names\n",
    "lst = [[35, 'Portugal', 94], [33, 'Argentina', 93], [30, 'Brazil', 92]]\n",
    "col = ['Age', 'Nationality', 'Overall']\n",
    "\n",
    "# Create the DataFrame\n",
    "df1 = pd.DataFrame(lst, columns=col,index=[1,2,3])\n",
    "\n",
    "# Print the DataFrame\n",
    "print(df1)"
   ]
  },
  {
   "cell_type": "code",
   "execution_count": 25,
   "id": "b75ae458",
   "metadata": {},
   "outputs": [
    {
     "name": "stdout",
     "output_type": "stream",
     "text": [
      "Total number of unique countries: 49\n"
     ]
    }
   ],
   "source": [
    "# Calculate the total number of unique countries in the 'Area' column\n",
    "unique_countries = df['Area'].nunique()\n",
    "\n",
    "# Print the total number of unique countries\n",
    "print(\"Total number of unique countries:\", unique_countries)"
   ]
  },
  {
   "cell_type": "code",
   "execution_count": 26,
   "id": "61752ba6",
   "metadata": {},
   "outputs": [
    {
     "name": "stdout",
     "output_type": "stream",
     "text": [
      "Total sum of Wine produced in 2015: 4251.8099999999995\n",
      "Total sum of Wine produced in 2018: 4039.3199999999997\n"
     ]
    }
   ],
   "source": [
    "# Filter the dataset for Wine and select the columns for 2015 and 2018\n",
    "wine_df = df[df['Item'] == 'Wine'][['Y2015', 'Y2018']]\n",
    "\n",
    "# Calculate the total sum of Wine produced in 2015 and 2018\n",
    "total_sum_2015 = wine_df['Y2015'].sum()\n",
    "total_sum_2018 = wine_df['Y2018'].sum()\n",
    "\n",
    "# Print the total sum of Wine produced in 2015 and 2018\n",
    "print(\"Total sum of Wine produced in 2015:\", total_sum_2015)\n",
    "print(\"Total sum of Wine produced in 2018:\", total_sum_2018)"
   ]
  },
  {
   "cell_type": "code",
   "execution_count": 27,
   "id": "9d77d2a1",
   "metadata": {},
   "outputs": [
    {
     "name": "stdout",
     "output_type": "stream",
     "text": [
      "Area with the highest sum in 2017: Nigeria\n"
     ]
    }
   ],
   "source": [
    "# Select columns 'Y2017' and 'Area'\n",
    "df_subset = df[['Y2017', 'Area']]\n",
    "\n",
    "# Perform groupby operation on 'Area' and calculate the sum for 'Y2017'\n",
    "grouped = df_subset.groupby('Area')['Y2017'].sum()\n",
    "\n",
    "# Find the Area with the highest sum in 2017\n",
    "highest_sum_area = grouped.idxmax()\n",
    "\n",
    "# Print the Area with the highest sum in 2017\n",
    "print(\"Area with the highest sum in 2017:\", highest_sum_area)"
   ]
  },
  {
   "cell_type": "code",
   "execution_count": 29,
   "id": "462a5f55",
   "metadata": {},
   "outputs": [
    {
     "ename": "TypeError",
     "evalue": "'tuple' object does not support item assignment",
     "output_type": "error",
     "traceback": [
      "\u001b[1;31m---------------------------------------------------------------------------\u001b[0m",
      "\u001b[1;31mTypeError\u001b[0m                                 Traceback (most recent call last)",
      "\u001b[1;32m<ipython-input-29-ce1543b3be47>\u001b[0m in \u001b[0;36m<module>\u001b[1;34m\u001b[0m\n\u001b[0;32m      1\u001b[0m \u001b[0mmy_tuppy\u001b[0m \u001b[1;33m=\u001b[0m \u001b[1;33m(\u001b[0m\u001b[1;36m1\u001b[0m\u001b[1;33m,\u001b[0m\u001b[1;36m2\u001b[0m\u001b[1;33m,\u001b[0m\u001b[1;36m5\u001b[0m\u001b[1;33m,\u001b[0m\u001b[1;36m8\u001b[0m\u001b[1;33m)\u001b[0m\u001b[1;33m\u001b[0m\u001b[1;33m\u001b[0m\u001b[0m\n\u001b[0;32m      2\u001b[0m \u001b[1;33m\u001b[0m\u001b[0m\n\u001b[1;32m----> 3\u001b[1;33m \u001b[0mmy_tuppy\u001b[0m\u001b[1;33m[\u001b[0m\u001b[1;36m2\u001b[0m\u001b[1;33m]\u001b[0m \u001b[1;33m=\u001b[0m \u001b[1;36m6\u001b[0m\u001b[1;33m\u001b[0m\u001b[1;33m\u001b[0m\u001b[0m\n\u001b[0m",
      "\u001b[1;31mTypeError\u001b[0m: 'tuple' object does not support item assignment"
     ]
    }
   ],
   "source": [
    "my_tuppy = (1,2,5,8)\n",
    "\n",
    "my_tuppy[2] = 6"
   ]
  },
  {
   "cell_type": "code",
   "execution_count": 32,
   "id": "74039eed",
   "metadata": {},
   "outputs": [
    {
     "name": "stdout",
     "output_type": "stream",
     "text": [
      "Total Protein supply quantity in Madagascar in 2015: 24234.0\n"
     ]
    }
   ],
   "source": [
    "# Filter the DataFrame for Madagascar and select the 'Y2015' column\n",
    "madagascar_protein_2015 = df.loc[df['Area'] == 'Madagascar', 'Y2015'].values[0]\n",
    "\n",
    "# Print the total Protein supply quantity in Madagascar in 2015\n",
    "print(\"Total Protein supply quantity in Madagascar in 2015:\", madagascar_protein_2015)"
   ]
  },
  {
   "cell_type": "code",
   "execution_count": 31,
   "id": "9728ed82",
   "metadata": {},
   "outputs": [
    {
     "name": "stdout",
     "output_type": "stream",
     "text": [
      "8\n"
     ]
    }
   ],
   "source": [
    "y = [(2, 4), (7, 8), (1, 5, 9)]\n",
    "\n",
    "# Assign element 8 to variable x\n",
    "x = y[1][1]\n",
    "\n",
    "# Print the value of x\n",
    "print(x)"
   ]
  },
  {
   "cell_type": "code",
   "execution_count": null,
   "id": "e0a2c8d9",
   "metadata": {},
   "outputs": [],
   "source": []
  }
 ],
 "metadata": {
  "kernelspec": {
   "display_name": "Python 3",
   "language": "python",
   "name": "python3"
  },
  "language_info": {
   "codemirror_mode": {
    "name": "ipython",
    "version": 3
   },
   "file_extension": ".py",
   "mimetype": "text/x-python",
   "name": "python",
   "nbconvert_exporter": "python",
   "pygments_lexer": "ipython3",
   "version": "3.8.8"
  }
 },
 "nbformat": 4,
 "nbformat_minor": 5
}
